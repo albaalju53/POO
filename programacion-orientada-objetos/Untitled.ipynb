{
 "cells": [
  {
   "cell_type": "code",
   "execution_count": 1,
   "id": "042ec4f7-f4f1-4157-b053-65262737338b",
   "metadata": {
    "jupyter": {
     "source_hidden": true
    }
   },
   "outputs": [
    {
     "name": "stdout",
     "output_type": "stream",
     "text": [
      "Hello world\n"
     ]
    }
   ],
   "source": [
    "print(\"Hello world\")"
   ]
  },
  {
   "cell_type": "code",
   "execution_count": 3,
   "id": "5f002ca5-6c35-47de-b21e-7a92f0d4f169",
   "metadata": {},
   "outputs": [
    {
     "name": "stdout",
     "output_type": "stream",
     "text": [
      "[1, 2, 3, 4, 5]\n"
     ]
    }
   ],
   "source": [
    "numbers = [1,2,3,4,5]\n",
    "print (numbers)"
   ]
  },
  {
   "cell_type": "code",
   "execution_count": 4,
   "id": "f92a3d0a-dfa3-42a0-bf3d-695d69f4854a",
   "metadata": {},
   "outputs": [
    {
     "data": {
      "text/plain": [
       "['Hola', 1, 3.14, [1, 2, 3], 'mundo']"
      ]
     },
     "execution_count": 4,
     "metadata": {},
     "output_type": "execute_result"
    }
   ],
   "source": [
    "objects = [\"Hola\",1,3.14, [1,2,3]]\n",
    "objects.append(\"mundo\")\n",
    "objects\n"
   ]
  },
  {
   "cell_type": "code",
   "execution_count": 6,
   "id": "9dbcb268-065c-4609-940a-5538a538b183",
   "metadata": {},
   "outputs": [
    {
     "data": {
      "text/plain": [
       "[33, 'Hola', 33, 1, 3.14, [1, 2, 3], 'mundo']"
      ]
     },
     "execution_count": 6,
     "metadata": {},
     "output_type": "execute_result"
    }
   ],
   "source": [
    "objects.insert(0,33)\n",
    "objects"
   ]
  },
  {
   "cell_type": "code",
   "execution_count": 8,
   "id": "e7400fc9-ad27-45c5-b3cd-85898fd2f784",
   "metadata": {},
   "outputs": [
    {
     "data": {
      "text/plain": [
       "[33, 1, 3.14, [1, 2, 3], 'mundo']"
      ]
     },
     "execution_count": 8,
     "metadata": {},
     "output_type": "execute_result"
    }
   ],
   "source": [
    "del objects[0]\n",
    "objects"
   ]
  },
  {
   "cell_type": "code",
   "execution_count": 9,
   "id": "ece2c4fc-70b2-46ca-96fb-d155a539e73f",
   "metadata": {},
   "outputs": [
    {
     "data": {
      "text/plain": [
       "'mundo'"
      ]
     },
     "execution_count": 9,
     "metadata": {},
     "output_type": "execute_result"
    }
   ],
   "source": [
    "x = objects.pop()\n",
    "x"
   ]
  },
  {
   "cell_type": "code",
   "execution_count": 10,
   "id": "457772f7-6c2b-4afd-b24a-9516031d0e0b",
   "metadata": {},
   "outputs": [
    {
     "data": {
      "text/plain": [
       "1"
      ]
     },
     "execution_count": 10,
     "metadata": {},
     "output_type": "execute_result"
    }
   ],
   "source": [
    "objects.pop(1)"
   ]
  },
  {
   "cell_type": "code",
   "execution_count": 11,
   "id": "47dfa003-5ffe-4965-8341-631b27076953",
   "metadata": {},
   "outputs": [
    {
     "data": {
      "text/plain": [
       "[33, 3.14, [1, 2, 3]]"
      ]
     },
     "execution_count": 11,
     "metadata": {},
     "output_type": "execute_result"
    }
   ],
   "source": [
    "objects"
   ]
  },
  {
   "cell_type": "code",
   "execution_count": 14,
   "id": "90d33315-ca4b-46aa-8c1f-dda5a0280099",
   "metadata": {},
   "outputs": [
    {
     "name": "stdout",
     "output_type": "stream",
     "text": [
      "['audi', 'bmw', 'subaru', 'toyota']\n"
     ]
    }
   ],
   "source": [
    "cars = ['bmw', 'audi', 'toyota', 'subaru']\n",
    "cars.sort()\n",
    "print(cars)"
   ]
  },
  {
   "cell_type": "code",
   "execution_count": 18,
   "id": "cda254c3-79ee-4793-a942-e8dec47c9fb4",
   "metadata": {},
   "outputs": [
    {
     "name": "stdout",
     "output_type": "stream",
     "text": [
      "[0, 1, 4, 9, 16, 25, 36, 49, 64, 81]\n"
     ]
    }
   ],
   "source": [
    "sq= []\n",
    "i = 0\n",
    "while (i <10):\n",
    "    sq.append(i**2)\n",
    "    i += 1\n",
    "print(sq)"
   ]
  },
  {
   "cell_type": "code",
   "execution_count": 19,
   "id": "76db33e6-7d6c-4a92-a68b-8603ca369819",
   "metadata": {},
   "outputs": [
    {
     "name": "stdout",
     "output_type": "stream",
     "text": [
      "[0, 1, 4, 9, 16, 25, 36, 49, 64, 81]\n"
     ]
    }
   ],
   "source": [
    "sq = [i**2 for i in range (0,10)]\n",
    "print(sq)"
   ]
  },
  {
   "cell_type": "code",
   "execution_count": 20,
   "id": "b13cdb21-a819-4b24-bdd7-50f9877d3a0a",
   "metadata": {},
   "outputs": [
    {
     "name": "stdout",
     "output_type": "stream",
     "text": [
      "[1, 9, 25, 49, 81, 121, 169, 225, 289, 361]\n"
     ]
    }
   ],
   "source": [
    "sq = []\n",
    "\n",
    "for i in range(0,20):\n",
    "    if i % 2 == 1:\n",
    "        sq.append(i**2)\n",
    "\n",
    "print(sq)"
   ]
  },
  {
   "cell_type": "code",
   "execution_count": 21,
   "id": "8c36bac7-54b4-400c-920b-c96a78ad80af",
   "metadata": {},
   "outputs": [
    {
     "name": "stdout",
     "output_type": "stream",
     "text": [
      "[1, 9, 25, 49, 81, 121, 169, 225, 289, 361]\n"
     ]
    }
   ],
   "source": [
    "sq = [i**2 for i in range(0,20) if i % 2 ==1 ]\n",
    "print(sq)"
   ]
  },
  {
   "cell_type": "code",
   "execution_count": null,
   "id": "49e55983-d9ae-43c4-864b-6e4ae42a0289",
   "metadata": {},
   "outputs": [],
   "source": []
  }
 ],
 "metadata": {
  "kernelspec": {
   "display_name": "Python 3.12.6 64-bit",
   "language": "python",
   "name": "python3"
  },
  "language_info": {
   "codemirror_mode": {
    "name": "ipython",
    "version": 3
   },
   "file_extension": ".py",
   "mimetype": "text/x-python",
   "name": "python",
   "nbconvert_exporter": "python",
   "pygments_lexer": "ipython3",
   "version": "3.12.6"
  },
  "vscode": {
   "interpreter": {
    "hash": "9c871106743a326009818feeb086c505ea7858a52ef2839a002d7ec6c37cd01b"
   }
  }
 },
 "nbformat": 4,
 "nbformat_minor": 5
}
